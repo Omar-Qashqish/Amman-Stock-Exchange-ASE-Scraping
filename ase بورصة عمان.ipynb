{
 "cells": [
  {
   "cell_type": "code",
   "execution_count": 1,
   "id": "36809564-6bae-4452-a5cc-04a6d115e48b",
   "metadata": {},
   "outputs": [],
   "source": [
    "import requests\n",
    "from bs4 import BeautifulSoup\n",
    "import pandas as pd\n",
    "import urllib3\n",
    "import time"
   ]
  },
  {
   "cell_type": "code",
   "execution_count": 2,
   "id": "5d476cbd-ed6b-4b46-9d46-eb699b796a4e",
   "metadata": {},
   "outputs": [],
   "source": [
    "urllib3.disable_warnings(urllib3.exceptions.InsecureRequestWarning)\n"
   ]
  },
  {
   "cell_type": "code",
   "execution_count": 3,
   "id": "0f27c758-5a9a-4c5a-9260-1b8be32b122b",
   "metadata": {},
   "outputs": [],
   "source": [
    "url = \"https://www.ase.com.jo/en\"\n",
    "\n",
    "headers = {\n",
    "    \"User-Agent\": \"Mozilla/5.0 (Windows NT 10.0; Win64; x64; rv:125.0) Gecko/20100101 Firefox/125.0\",\n",
    "    \"Accept\": \"text/html,application/xhtml+xml,application/xml;q=0.9,image/avif,image/webp,*/*;q=0.8\",\n",
    "    \"Accept-Language\": \"en-US,en;q=0.9\",\n",
    "    \"Accept-Encoding\": \"gzip, deflate, br\",\n",
    "    \"Connection\": \"keep-alive\",\n",
    "    \"Upgrade-Insecure-Requests\": \"1\",\n",
    "    \"Sec-Fetch-Dest\": \"document\",\n",
    "    \"Sec-Fetch-Mode\": \"navigate\",\n",
    "    \"Sec-Fetch-Site\": \"none\",\n",
    "    \"Sec-Fetch-User\": \"?1\",\n",
    "    \"TE\": \"trailers\"\n",
    "}\n",
    "\n",
    "response = requests.get(url, headers=headers, verify=False)\n",
    "response.raise_for_status()\n",
    "\n",
    "soup = BeautifulSoup(response.content, \"html.parser\")\n",
    "\n"
   ]
  },
  {
   "cell_type": "code",
   "execution_count": 4,
   "id": "8726751f-1719-4b74-a75b-2d6f8f596383",
   "metadata": {},
   "outputs": [],
   "source": [
    "summary_url = \"https://www.ase.com.jo/en/summary/get_daily_live_summary\"\n",
    "response = requests.get(summary_url)\n",
    "summary_json = response.json()['data']\n",
    "\n",
    "# summary_data = {\n",
    "#     \"Regular Market\": summary_json.get('regularMarket', {}),\n",
    "#     \"OTC Market\": summary_json.get('otcMarket', {}),\n",
    "#     \"Bonds Market\": summary_json.get('bondMarket', {}),\n",
    "#     \"Sukuk Market\": summary_json.get('sukukMarket', {})\n",
    "# }\n"
   ]
  },
  {
   "cell_type": "code",
   "execution_count": 7,
   "id": "d35196f9-6ff8-46d6-a899-b70af3bfde06",
   "metadata": {},
   "outputs": [
    {
     "data": {
      "text/plain": [
       "{'date': '2025-05-07T03:03:53',\n",
       " 'top_gainers': '32',\n",
       " 'top_losers': '28',\n",
       " 'un_changed': '28',\n",
       " 'trading_value': '7,811,302',\n",
       " 'trading_volume': '4,177,935',\n",
       " 'number_of_transactions': '2,711',\n",
       " 'number_of_securities': 89,\n",
       " 'trading_value_bonds': 0,\n",
       " 'trading_volume_bonds': '0',\n",
       " 'bonds_transactions': '0',\n",
       " 'bonds_securities': '0',\n",
       " 'trading_value_sukuk': '0',\n",
       " 'trading_volume_sukuk': '0',\n",
       " 'sukuk_transactions': '0',\n",
       " 'sukuk_securities': '0',\n",
       " 'trading_value_otc': '316,372',\n",
       " 'trading_volume_otc': '449,353',\n",
       " 'otc_transactions': '329',\n",
       " 'otc_securities': 22,\n",
       " 'top_gainers_otc': '7',\n",
       " 'top_losers_otc': '6',\n",
       " 'un_changed_otc': '9',\n",
       " 'most_active_shares': [{'object_id': 'JOEP',\n",
       "   'total_market_value_traded': '1804060.0999999987',\n",
       "   'current_price': '2.37',\n",
       "   'total_market_value_traded_percent': '0'},\n",
       "  {'object_id': 'JOPH',\n",
       "   'total_market_value_traded': '1306286.9799999997',\n",
       "   'current_price': '15.99',\n",
       "   'total_market_value_traded_percent': '0'},\n",
       "  {'object_id': 'JOIB',\n",
       "   'total_market_value_traded': '719984.8600000002',\n",
       "   'current_price': '4.12',\n",
       "   'total_market_value_traded_percent': '0'},\n",
       "  {'object_id': 'JOPT',\n",
       "   'total_market_value_traded': '684786.3900000001',\n",
       "   'current_price': '4.96',\n",
       "   'total_market_value_traded_percent': '0'},\n",
       "  {'object_id': 'ARBK',\n",
       "   'total_market_value_traded': '564291.8999999994',\n",
       "   'current_price': '4.58',\n",
       "   'total_market_value_traded_percent': '0'}]}"
      ]
     },
     "execution_count": 7,
     "metadata": {},
     "output_type": "execute_result"
    }
   ],
   "source": [
    "summary_json"
   ]
  },
  {
   "cell_type": "code",
   "execution_count": 8,
   "id": "38824964-f6a1-4b3c-9d77-348ec6730f42",
   "metadata": {},
   "outputs": [],
   "source": [
    "regular_market = {\n",
    "    \"Trading Value (JDs)\": summary_json.get('trading_value'),\n",
    "    \"Trading Volume\": summary_json.get('trading_volume'),\n",
    "    \"No. of Transactions\": summary_json.get('number_of_transactions'),\n",
    "    \"No. of Securities\": summary_json.get('number_of_securities')\n",
    "}\n",
    "\n",
    "# OTC Market\n",
    "otc_market = {\n",
    "    \"Trading Value (JDs)\": summary_json.get('trading_value_otc'),\n",
    "    \"Trading Volume\": summary_json.get('trading_volume_otc'),\n",
    "    \"No. of Transactions\": summary_json.get('otc_transactions'),\n",
    "    \"No. of Securities\": summary_json.get('otc_securities')\n",
    "}\n",
    "\n",
    "# Bonds Market\n",
    "bonds_market = {\n",
    "    \"Trading Value (JDs)\": summary_json.get('trading_value_bonds'),\n",
    "    \"Trading Volume\": summary_json.get('trading_volume_bonds'),\n",
    "    \"No. of Transactions\": summary_json.get('bonds_transactions'),\n",
    "    \"No. of Securities\": summary_json.get('bonds_securities')\n",
    "}\n",
    "\n",
    "# Sukuk Market\n",
    "sukuk_market = {\n",
    "    \"Trading Value (JDs)\": summary_json.get('trading_value_sukuk'),\n",
    "    \"Trading Volume\": summary_json.get('trading_volume_sukuk'),\n",
    "    \"No. of Transactions\": summary_json.get('sukuk_transactions'),\n",
    "    \"No. of Securities\": summary_json.get('sukuk_securities')\n",
    "}\n"
   ]
  },
  {
   "cell_type": "code",
   "execution_count": 13,
   "id": "15d044c5-42e2-4083-a11a-4d2cf41aa9ce",
   "metadata": {
    "scrolled": true
   },
   "outputs": [
    {
     "name": "stdout",
     "output_type": "stream",
     "text": [
      "\n",
      "=== Regular Market ===\n",
      "  Trading Value (JDs) Trading Volume No. of Transactions  No. of Securities\n",
      "0           7,811,302      4,177,935               2,711                 89\n",
      "\n",
      "=== OTC Market ===\n",
      "  Trading Value (JDs) Trading Volume No. of Transactions  No. of Securities\n",
      "0             316,372        449,353                 329                 22\n",
      "\n",
      "=== Bonds Market ===\n",
      "   Trading Value (JDs) Trading Volume No. of Transactions No. of Securities\n",
      "0                    0              0                   0                 0\n",
      "\n",
      "=== Sukuk Market ===\n",
      "  Trading Value (JDs) Trading Volume No. of Transactions No. of Securities\n",
      "0                   0              0                   0                 0\n"
     ]
    }
   ],
   "source": [
    "market_dataframes = {\n",
    "    \"Regular Market\": pd.DataFrame([regular_market]),\n",
    "    \"OTC Market\": pd.DataFrame([otc_market]),\n",
    "    \"Bonds Market\": pd.DataFrame([bonds_market]),\n",
    "    \"Sukuk Market\": pd.DataFrame([sukuk_market])\n",
    "}\n",
    "\n",
    "for market_name, df in market_dataframes.items():\n",
    "    print(f\"\\n=== {market_name} ===\")\n",
    "    print(df)\n",
    "\n",
    "\n"
   ]
  },
  {
   "cell_type": "code",
   "execution_count": 15,
   "id": "837f30b0-1390-4a12-b150-9b08d194d063",
   "metadata": {},
   "outputs": [],
   "source": [
    "regular_top_movers = {\n",
    "    \"Top Gainers\": summary_json.get('top_gainers'),\n",
    "    \"Top Losers\": summary_json.get('top_losers'),\n",
    "    \"Unchanged\": summary_json.get('un_changed')\n",
    "}\n",
    "\n",
    "otc_top_movers = {\n",
    "    \"Top Gainers\": summary_json.get('top_gainers_otc'),\n",
    "    \"Top Losers\": summary_json.get('top_losers_otc'),\n",
    "    \"Unchanged\": summary_json.get('un_changed_otc')\n",
    "}\n",
    "\n",
    "bonds_top_movers = {\n",
    "    \"Top Gainers\": None,\n",
    "    \"Top Losers\": None,\n",
    "    \"Unchanged\": None\n",
    "}\n",
    "\n",
    "sukuk_top_movers = {\n",
    "    \"Top Gainers\": None,\n",
    "    \"Top Losers\": None,\n",
    "    \"Unchanged\": None\n",
    "}\n"
   ]
  },
  {
   "cell_type": "code",
   "execution_count": 17,
   "id": "88c369ca-3a32-4d45-b084-57597da4ce5b",
   "metadata": {},
   "outputs": [
    {
     "name": "stdout",
     "output_type": "stream",
     "text": [
      "\n",
      "=== Regular Market Movers ===\n",
      "  Top Gainers Top Losers Unchanged\n",
      "0          32         28        28\n",
      "\n",
      "=== OTC Market Movers ===\n",
      "  Top Gainers Top Losers Unchanged\n",
      "0           7          6         9\n",
      "\n",
      "=== Bonds Market Movers ===\n",
      "  Top Gainers Top Losers Unchanged\n",
      "0        None       None      None\n",
      "\n",
      "=== Sukuk Market Movers ===\n",
      "  Top Gainers Top Losers Unchanged\n",
      "0        None       None      None\n"
     ]
    }
   ],
   "source": [
    "top_movers_dataframes = {\n",
    "    \"Regular Market Movers\": pd.DataFrame([regular_top_movers]),\n",
    "    \"OTC Market Movers\": pd.DataFrame([otc_top_movers]),\n",
    "    \"Bonds Market Movers\": pd.DataFrame([bonds_top_movers]),\n",
    "    \"Sukuk Market Movers\": pd.DataFrame([sukuk_top_movers])\n",
    "}\n",
    "\n",
    "for market_name, df in top_movers_dataframes.items():\n",
    "    print(f\"\\n=== {market_name} ===\")\n",
    "    print(df)"
   ]
  },
  {
   "cell_type": "code",
   "execution_count": 19,
   "id": "d41f0659-aecb-4629-ab04-b73ce79cb75c",
   "metadata": {},
   "outputs": [],
   "source": [
    "live_index_url = \"https://www.ase.com.jo/en/api/v1/market-index?_format=json\"\n",
    "response_live_index = requests.get(live_index_url)\n",
    "live_index_json = response_live_index.json()\n"
   ]
  },
  {
   "cell_type": "code",
   "execution_count": 21,
   "id": "c4d7d238-2416-4f12-a1ab-793426e52be0",
   "metadata": {},
   "outputs": [
    {
     "data": {
      "text/plain": [
       "[{'index_value': '2531.12',\n",
       "  'percentage_of_variation': '0.15',\n",
       "  'status': 'closed',\n",
       "  'month': 'May',\n",
       "  'day': '07',\n",
       "  'time': '3:07 PM',\n",
       "  'date': 'May 07, 2025'}]"
      ]
     },
     "execution_count": 21,
     "metadata": {},
     "output_type": "execute_result"
    }
   ],
   "source": [
    "live_index_json"
   ]
  },
  {
   "cell_type": "code",
   "execution_count": 23,
   "id": "2dd428ce-2783-4542-94de-f78edc2e13b8",
   "metadata": {},
   "outputs": [
    {
     "name": "stdout",
     "output_type": "stream",
     "text": [
      "  Index Value Change Percent Market Status Month Day     Time          Date\n",
      "0     2531.12           0.15        closed   May  07  3:07 PM  May 07, 2025\n"
     ]
    }
   ],
   "source": [
    "live_index_data = []\n",
    "\n",
    "for item in live_index_json:  \n",
    "    live_index_data.append({\n",
    "        \"Index Value\": item.get('index_value'),\n",
    "        \"Change Percent\": item.get('percentage_of_variation'),\n",
    "        \"Market Status\": item.get('status'),\n",
    "        \"Month\": item.get('month'),\n",
    "        \"Day\": item.get('day'),\n",
    "        \"Time\": item.get('time'),\n",
    "        \"Date\": item.get('date')\n",
    "    })\n",
    "\n",
    "\n",
    "live_index_df = pd.DataFrame(live_index_data)\n",
    "print(live_index_df)\n"
   ]
  },
  {
   "cell_type": "code",
   "execution_count": 25,
   "id": "8858c94f-c50f-4aa3-86f3-83f957a317b4",
   "metadata": {},
   "outputs": [],
   "source": [
    "import pyodbc,  sys \n",
    "\n",
    "conn = pyodbc.connect('DRIVER={ODBC Driver 17 for SQL Server};'\n",
    "\n",
    "                      'SERVER=.\\\\SQLEXPRESS;'\n",
    "\n",
    "                      'DATABASE=ase بورصة عمان;'\n",
    "\n",
    "                      'Trusted_Connection=yes;'\n",
    "                      \n",
    "                      'Encrypt=no')\n",
    "cursor = conn.cursor()\n"
   ]
  },
  {
   "cell_type": "code",
   "execution_count": 27,
   "id": "ed279f08-48b5-4edf-8bd3-89261829c1cd",
   "metadata": {},
   "outputs": [],
   "source": [
    "# # يرست الداتا سيت\n",
    "\n",
    "# cursor.execute(\"TRUNCATE TABLE LiveIndexData\")\n",
    "# cursor.execute(\"TRUNCATE TABLE MarketData\")\n",
    "# cursor.execute(\"TRUNCATE TABLE TopMoversData\")\n",
    "\n",
    "# conn.commit()"
   ]
  },
  {
   "cell_type": "code",
   "execution_count": 29,
   "id": "be7a0253-32d0-49c3-9413-f75de122771c",
   "metadata": {},
   "outputs": [],
   "source": [
    "for market_name, df in market_dataframes.items():\n",
    "    for index, row in df.iterrows():\n",
    "        cursor.execute(\n",
    "            \"\"\"\n",
    "            INSERT INTO MarketData (MarketName, TradingValueJDs, TradingVolume, NoOfTransactions, NoOfSecurities)\n",
    "            VALUES (?, ?, ?, ?, ?)\n",
    "            \"\"\",\n",
    "            (\n",
    "                market_name,\n",
    "                row.get('Trading Value (JDs)', None),\n",
    "                row.get('Trading Volume', None),\n",
    "                row.get('No. of Transactions', None),\n",
    "                row.get('No. of Securities', None)\n",
    "            )\n",
    "        )\n",
    "\n",
    "conn.commit()\n"
   ]
  },
  {
   "cell_type": "code",
   "execution_count": 31,
   "id": "6a8c1c36-9978-4b7d-8f36-c2704935f452",
   "metadata": {},
   "outputs": [],
   "source": [
    "for market_name, df in top_movers_dataframes.items():\n",
    "    for index, row in df.iterrows():\n",
    "        cursor.execute(\n",
    "            \"\"\"\n",
    "            INSERT INTO TopMoversData (MarketName, TopGainers, TopLosers, Unchanged)\n",
    "            VALUES (?, ?, ?, ?)\n",
    "            \"\"\",\n",
    "            (\n",
    "                market_name,\n",
    "                row.get('Top Gainers', None),\n",
    "                row.get('Top Losers', None),\n",
    "                row.get('Unchanged', None)\n",
    "            )\n",
    "        )\n",
    "\n",
    "conn.commit()\n"
   ]
  },
  {
   "cell_type": "code",
   "execution_count": 33,
   "id": "27db9a9c-6c01-474d-b470-ea2ed07239fe",
   "metadata": {},
   "outputs": [],
   "source": [
    "for index, row in live_index_df.iterrows():\n",
    "    cursor.execute(\n",
    "        \"\"\"\n",
    "        INSERT INTO LiveIndexData (IndexValue, ChangePercent, MarketStatus, Month, Day, Time, Date)\n",
    "        VALUES (?, ?, ?, ?, ?, ?, ?)\n",
    "        \"\"\",\n",
    "        (\n",
    "            row.get('Index Value', None),\n",
    "            row.get('Change Percent', None),\n",
    "            row.get('Market Status', None),\n",
    "            row.get('Month', None),\n",
    "            row.get('Day', None),\n",
    "            row.get('Time', None),\n",
    "            row.get('Date', None)\n",
    "        )\n",
    "    )\n",
    "\n",
    "conn.commit()\n"
   ]
  },
  {
   "cell_type": "code",
   "execution_count": 35,
   "id": "6c8a0a6e-6fa2-421f-ba60-5f1d64b33952",
   "metadata": {},
   "outputs": [],
   "source": [
    "# section = soup.find(\"section\", class_=\"block block-quicktabs block-quicktabs-blockdaily-summary clearfix\")\n",
    "\n",
    "# if not section:\n",
    "#     raise Exception(\"❌ لم يتم العثور على السيكشن!\")\n"
   ]
  },
  {
   "cell_type": "code",
   "execution_count": 37,
   "id": "63d57171-8880-4324-bdf5-fe1e813b16f0",
   "metadata": {},
   "outputs": [],
   "source": [
    "# markets = {\n",
    "#     \"Regular Market\": section.find(\"div\", id=\"regular-market-summary-container\"),\n",
    "#     \"OTC Market\": section.find(\"div\", id=\"otc-market-summary-container\"),\n",
    "#     \"Bonds Market\": section.find(\"div\", id=\"bonds-market-summary-container\"),\n",
    "#     \"Sukuk Market\": section.find(\"div\", id=\"sukuk-market-summary-container\"),\n",
    "# }"
   ]
  },
  {
   "cell_type": "code",
   "execution_count": 39,
   "id": "7c6f8615-4c94-406e-9c15-7c93cfcffa38",
   "metadata": {},
   "outputs": [],
   "source": [
    "# def extract_market_data(market_div):\n",
    "#     if not market_div:\n",
    "#         return {\n",
    "#             \"Trading Value (JDs)\": None,\n",
    "#             \"Trading Volume\": None,\n",
    "#             \"No. of Transactions\": None,\n",
    "#             \"No. of Securities\": None\n",
    "#         }\n",
    "    \n",
    "#     try:\n",
    "#         return {\n",
    "#             \"Trading Value (JDs)\": market_div.find(\"div\", class_=\"trade-value-txt\").find(\"span\", class_=\"trade value\").text.strip(),\n",
    "#             \"Trading Volume\": market_div.find(\"div\", class_=\"shares-txt\").find(\"span\", class_=\"shares value\").text.strip(),\n",
    "#             \"No. of Transactions\": market_div.find(\"div\", class_=\"transactions-txt\").find(\"span\", class_=\"transactions value\").text.strip(),\n",
    "#             \"No. of Securities\": market_div.find(\"div\", class_=\"securties-txt\").find(\"span\", class_=\"securties value\").text.strip()\n",
    "#         }\n",
    "#     except Exception as e:\n",
    "#         print(f\"⚠️ خطأ أثناء الاستخراج: {e}\")\n",
    "#         return {\n",
    "#             \"Trading Value (JDs)\": None,\n",
    "#             \"Trading Volume\": None,\n",
    "#             \"No. of Transactions\": None,\n",
    "#             \"No. of Securities\": None\n",
    "#         }\n",
    "\n",
    "# market_dataframes = {}\n",
    "# for market_name, market_div in markets.items():\n",
    "#     data = extract_market_data(market_div)\n",
    "#     df = pd.DataFrame([data])\n",
    "#     market_dataframes[market_name] = df"
   ]
  },
  {
   "cell_type": "code",
   "execution_count": 41,
   "id": "831b146b-8913-40e0-97dd-4e496b8ba87b",
   "metadata": {},
   "outputs": [],
   "source": [
    "# live_section = soup.find(\"section\", class_=\"block-market-today-block\")\n",
    "# live_data = []\n",
    "\n",
    "# if live_section:\n",
    "#     index_name = live_section.find(\"div\", class_=\"marketToday-index-title\")\n",
    "#     index_value = live_section.find(\"div\", class_=\"marketToday-index-value\")\n",
    "#     change_percent = live_section.find(\"div\", class_=\"marketToday-index-change\")\n",
    "#     date_today = live_section.find(\"div\", class_=\"marketToday-date\")\n",
    "\n",
    "#     live_data.append({\n",
    "#         \"Index Name\": index_name.text.strip() if index_name else None,\n",
    "#         \"Index Value\": index_value.text.strip() if index_value else None,\n",
    "#         \"Change Percent\": change_percent.text.strip() if change_percent else None,\n",
    "#         \"Date\": date_today.text.strip() if date_today else None\n",
    "#     })\n",
    "\n",
    "# # حفظ اللايف داتا\n",
    "# live_df = pd.DataFrame(live_data)\n"
   ]
  },
  {
   "cell_type": "code",
   "execution_count": 43,
   "id": "f81044b6-b0bc-460a-bcdf-f5d1ae581d5c",
   "metadata": {},
   "outputs": [],
   "source": [
    "# market_index_url = \"https://www.ase.com.jo/en/api/v1/market-index?_format=json\"\n",
    "# index_response = requests.get(market_index_url)\n",
    "# index_json = index_response.json()\n",
    "\n",
    "# if not live_df.at[0, \"Index Name\"] or live_df.at[0, \"Index Name\"] in [None, \"\", \"-\"]:\n",
    "#     live_df.at[0, \"Index Name\"] = index_json[0].get(\"name\")\n",
    "\n",
    "# if not live_df.at[0, \"Index Value\"] or live_df.at[0, \"Index Value\"] in [None, \"\", \"-\"]:\n",
    "#     live_df.at[0, \"Index Value\"] = index_json[0].get(\"indexValue\")\n",
    "\n",
    "# if not live_df.at[0, \"Change Percent\"] or live_df.at[0, \"Change Percent\"] in [None, \"\", \"-\"]:\n",
    "#     live_df.at[0, \"Change Percent\"] = index_json[0].get(\"changePercent\")\n",
    "\n",
    "# if not live_df.at[0, \"Date\"] or live_df.at[0, \"Date\"] in [None, \"\", \"-\"]:\n",
    "#     live_df.at[0, \"Date\"] = index_json[0].get(\"date\")\n",
    "\n",
    "# # 12. نطبع اللايف داتا بعد التحديث\n",
    "# print(\"\\n=== Live Data ===\")\n",
    "# print(live_df)\n"
   ]
  },
  {
   "cell_type": "code",
   "execution_count": 26,
   "id": "8da00fd6-5d0d-4efa-8a26-f1c292396e14",
   "metadata": {},
   "outputs": [
    {
     "data": {
      "text/html": [
       "<div>\n",
       "<style scoped>\n",
       "    .dataframe tbody tr th:only-of-type {\n",
       "        vertical-align: middle;\n",
       "    }\n",
       "\n",
       "    .dataframe tbody tr th {\n",
       "        vertical-align: top;\n",
       "    }\n",
       "\n",
       "    .dataframe thead th {\n",
       "        text-align: right;\n",
       "    }\n",
       "</style>\n",
       "<table border=\"1\" class=\"dataframe\">\n",
       "  <thead>\n",
       "    <tr style=\"text-align: right;\">\n",
       "      <th></th>\n",
       "    </tr>\n",
       "  </thead>\n",
       "  <tbody>\n",
       "  </tbody>\n",
       "</table>\n",
       "</div>"
      ],
      "text/plain": [
       "Empty DataFrame\n",
       "Columns: []\n",
       "Index: []"
      ]
     },
     "execution_count": 26,
     "metadata": {},
     "output_type": "execute_result"
    }
   ],
   "source": []
  },
  {
   "cell_type": "code",
   "execution_count": null,
   "id": "7c4e9544-922b-46f8-afb4-b795d4e3a8c6",
   "metadata": {},
   "outputs": [],
   "source": []
  }
 ],
 "metadata": {
  "kernelspec": {
   "display_name": "Python [conda env:base] *",
   "language": "python",
   "name": "conda-base-py"
  },
  "language_info": {
   "codemirror_mode": {
    "name": "ipython",
    "version": 3
   },
   "file_extension": ".py",
   "mimetype": "text/x-python",
   "name": "python",
   "nbconvert_exporter": "python",
   "pygments_lexer": "ipython3",
   "version": "3.12.7"
  }
 },
 "nbformat": 4,
 "nbformat_minor": 5
}
